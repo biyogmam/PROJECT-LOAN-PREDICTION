{
 "cells": [
  {
   "cell_type": "markdown",
   "id": "269688ee",
   "metadata": {},
   "source": [
    "# PROJECT: LOAN PREDICTION"
   ]
  },
  {
   "cell_type": "markdown",
   "id": "0979dac9",
   "metadata": {},
   "source": [
    "# TABLE OF CONTENTS\n",
    "0. [Introduction](#1.-Introduction)\n",
    "1. [Dependencies and Libraries](#2.-Dependencies-and-Libraries)\n",
    "2. [Loading the data](#3.-Loading-the-data)\n",
    "3. [Basic Information of the Dataset](#4.-Basic-Information-of-the-Dataset)  \n",
    "   3.1 [Quick Look of the dataset(5 first rows) and a random sample](#3.1.-Quick-Look-of-the-dataset-(5-first-rows)-and-a-random-sample)\n",
    "   \n",
    "   3.2 [Shape of the dataset](#3.2.-Shape-of-the-dataset) \n",
    "   \n",
    "   3.3 [Information about variable datatypes](#3.3.-Information-about-variable-datatypes) \n",
    "   \n",
    "   3.4 [Descriptive Statistics of the dataset](#3.4-Descriptive-Statistics-of-the-dataset)\n",
    "4. [Data Cleaning](#4.-Data-Cleaning)\n",
    "\n",
    "   4.1 [Check for Duplicates](#4.1-Check-for-Duplicates)\n",
    "   \n",
    "   4.2 [Check and remove Null Values](#.2-Check-and-remove-Null-Values)\n",
    "5. [Visualization of the data](#5.-Visualization-of-the-data)\n",
    "\n",
    "   5.1 [Univariate Plots](#5.1-Univariate-Plots)\n",
    "   \n",
    "   5.2 [Multivariate Plots](#5.2-Multivariate-Plots)\n",
    "\n",
    "   \n",
    "6. [FEATURE ENGENIERING](#6.-FEATURE-ENGENIERING)\n",
    "\n",
    "      6.1 [Encoding the categorical data into Quantitative data](#6.1-Encoding-the-categorical-data-into-Quantitative-data)\n",
    "   \n",
    "      6.2 [Creating Dependent And Independent Variables](#6.2-Creating-Dependent-And-Independent-Variables)\n",
    "   \n",
    "      6.3 [Split Dataset to Train and Test](#6.3-Split-Dataset-to-Train-and-Test)\n",
    "7. [MACHINE LEARNING MODELS and COMPARISON](#7.-MACHINE-LEARNING-MODELS-and-COMPARISON)\n",
    "      7.1 [Support Vector Machine Model](#7.1-Support-Vector-Machine-Model)\n",
    "   \n",
    "      7.1.1 [Building the SVM model on the Train Dataset](#7.1.1-Building-the-SVM-model-on-the-Train-Dataset)\n",
    "      \n",
    "      7.1.2 [Applying the Trained Model on the Train Dataset to Predict Values](#7.1.2-Applying-the-Trained-Model-on-the-Train-Dataset-to-Predict-Values)\n",
    "      \n",
    "      7.1.3 [Applying the Trained Model on the Test Dataset to Predict Values](#7.1.3-Applying-the-Trained-Model-on-the-Test-Dataset-to-Predict-Values)\n",
    "      \n",
    "      7.1.4 [Using the Model for Prediction](#7.1.4-Using-the-Model-for-Prediction)    \n",
    "\n",
    "      7.2 [Linear Regression Model](#7.2-LINEAR-REGRESSION-MODEL)\n",
    "      \n",
    "      7.3 [Ridge Regression Model](#7.3-RIDGE-REGRESSION-MODEL)\n",
    "      \n",
    "      7.4 [Lasso Regression Model](#7.4-LASSO-REGRESSION-MODEL)\n",
    "      \n",
    "      7.5 [Quadratic Polynomial Regression Model](#7.5-QUADRATIC-POLYNOMIAL-REGRESSION-MODEL)\n",
    "      \n",
    "      7.6 [Elastic Net](#7.6-ELASTIC-NET)\n",
    "      \n",
    "      7.7 [Random Forest Regressor](#7.7-RANDOM-FOREST-REGRESSOR)\n",
    "      \n",
    "      7.8 [MODEL COMPARISON](#7.8-MODEL-COMPARISON)\n",
    "      \n",
    "8. [OTHER MACHINE LEARNING MODELS](#8.-OTHER-MACHINE-LEARNING-MODELS)\n",
    "\n",
    "      8.1 [Logistic Regression](#8.1-Logistic-Regression)\n",
    "      \n",
    "      8.2 [Decision Tree Classifier](#8.2-Decision-Tree-Classifier)\n",
    "      \n",
    "      8.3 [KNeighborsClassifier](8.3-KNeighbors-Classifier)\n",
    "      \n",
    "      8.4 [AdaBoost Classifier](#8.4-AdaBoost-Classifier)\n",
    "      \n",
    "      8.5 [Gradient Boosting Classifier](#8.5-Gradient-Boosting-Classifier)\n",
    "      \n",
    "      8.6 [Bagging Classifier](#8.6-Bagging-Classifier)\n",
    "      "
   ]
  },
  {
   "cell_type": "markdown",
   "id": "0145afef",
   "metadata": {},
   "source": [
    "# 0. Introduction"
   ]
  },
  {
   "cell_type": "markdown",
   "id": "026cdb1c",
   "metadata": {},
   "source": [
    "This Project analyses the 'Loan' database which contains data on 614 loans applied by individuals. \n",
    "\n",
    "This dataset contains the following variables:\n",
    "\n"
   ]
  },
  {
   "cell_type": "markdown",
   "id": "eb3b4150",
   "metadata": {},
   "source": [
    "# 1. Dependencies and Libraries"
   ]
  },
  {
   "cell_type": "code",
   "execution_count": 182,
   "id": "3044308f",
   "metadata": {},
   "outputs": [],
   "source": [
    "import pandas as pd #for data frame for date processing\n",
    "import seaborn as sb #for plotting\n",
    "import numpy as np #for making arrays \n",
    "import matplotlib.pyplot as plt\n",
    "from sklearn.model_selection import train_test_split #split model into test and strain data\n",
    "#from sklearn import svm #support vector machine\n",
    "from sklearn.svm import SVC\n",
    "from sklearn.metrics import accuracy_score #used to evaluate the model how it perform on the data set"
   ]
  },
  {
   "cell_type": "markdown",
   "id": "8159bf13",
   "metadata": {},
   "source": [
    "# 2. Loading the data"
   ]
  },
  {
   "cell_type": "code",
   "execution_count": 183,
   "id": "d0f9cbf1",
   "metadata": {},
   "outputs": [],
   "source": [
    "data=pd.read_csv(\"loan.csv\")"
   ]
  },
  {
   "cell_type": "markdown",
   "id": "912fd7b9",
   "metadata": {},
   "source": [
    "# 3. Basic Information of the Dataset"
   ]
  },
  {
   "cell_type": "markdown",
   "id": "c8e5b6a7",
   "metadata": {},
   "source": [
    "3.1 Quick Look of the dataset(5 first rows) and a random sample"
   ]
  },
  {
   "cell_type": "code",
   "execution_count": 184,
   "id": "15e97165",
   "metadata": {},
   "outputs": [
    {
     "data": {
      "text/html": [
       "<div>\n",
       "<style scoped>\n",
       "    .dataframe tbody tr th:only-of-type {\n",
       "        vertical-align: middle;\n",
       "    }\n",
       "\n",
       "    .dataframe tbody tr th {\n",
       "        vertical-align: top;\n",
       "    }\n",
       "\n",
       "    .dataframe thead th {\n",
       "        text-align: right;\n",
       "    }\n",
       "</style>\n",
       "<table border=\"1\" class=\"dataframe\">\n",
       "  <thead>\n",
       "    <tr style=\"text-align: right;\">\n",
       "      <th></th>\n",
       "      <th>Loan_ID</th>\n",
       "      <th>Gender</th>\n",
       "      <th>Married</th>\n",
       "      <th>Dependents</th>\n",
       "      <th>Education</th>\n",
       "      <th>Self_Employed</th>\n",
       "      <th>ApplicantIncome</th>\n",
       "      <th>CoapplicantIncome</th>\n",
       "      <th>LoanAmount</th>\n",
       "      <th>Loan_Amount_Term</th>\n",
       "      <th>Credit_History</th>\n",
       "      <th>Property_Area</th>\n",
       "      <th>Loan_Status</th>\n",
       "    </tr>\n",
       "  </thead>\n",
       "  <tbody>\n",
       "    <tr>\n",
       "      <th>0</th>\n",
       "      <td>LP001002</td>\n",
       "      <td>Male</td>\n",
       "      <td>No</td>\n",
       "      <td>0</td>\n",
       "      <td>Graduate</td>\n",
       "      <td>No</td>\n",
       "      <td>5849</td>\n",
       "      <td>0.0</td>\n",
       "      <td>NaN</td>\n",
       "      <td>360.0</td>\n",
       "      <td>1.0</td>\n",
       "      <td>Urban</td>\n",
       "      <td>Y</td>\n",
       "    </tr>\n",
       "    <tr>\n",
       "      <th>1</th>\n",
       "      <td>LP001003</td>\n",
       "      <td>Male</td>\n",
       "      <td>Yes</td>\n",
       "      <td>1</td>\n",
       "      <td>Graduate</td>\n",
       "      <td>No</td>\n",
       "      <td>4583</td>\n",
       "      <td>1508.0</td>\n",
       "      <td>128.0</td>\n",
       "      <td>360.0</td>\n",
       "      <td>1.0</td>\n",
       "      <td>Rural</td>\n",
       "      <td>N</td>\n",
       "    </tr>\n",
       "    <tr>\n",
       "      <th>2</th>\n",
       "      <td>LP001005</td>\n",
       "      <td>Male</td>\n",
       "      <td>Yes</td>\n",
       "      <td>0</td>\n",
       "      <td>Graduate</td>\n",
       "      <td>Yes</td>\n",
       "      <td>3000</td>\n",
       "      <td>0.0</td>\n",
       "      <td>66.0</td>\n",
       "      <td>360.0</td>\n",
       "      <td>1.0</td>\n",
       "      <td>Urban</td>\n",
       "      <td>Y</td>\n",
       "    </tr>\n",
       "    <tr>\n",
       "      <th>3</th>\n",
       "      <td>LP001006</td>\n",
       "      <td>Male</td>\n",
       "      <td>Yes</td>\n",
       "      <td>0</td>\n",
       "      <td>Not Graduate</td>\n",
       "      <td>No</td>\n",
       "      <td>2583</td>\n",
       "      <td>2358.0</td>\n",
       "      <td>120.0</td>\n",
       "      <td>360.0</td>\n",
       "      <td>1.0</td>\n",
       "      <td>Urban</td>\n",
       "      <td>Y</td>\n",
       "    </tr>\n",
       "    <tr>\n",
       "      <th>4</th>\n",
       "      <td>LP001008</td>\n",
       "      <td>Male</td>\n",
       "      <td>No</td>\n",
       "      <td>0</td>\n",
       "      <td>Graduate</td>\n",
       "      <td>No</td>\n",
       "      <td>6000</td>\n",
       "      <td>0.0</td>\n",
       "      <td>141.0</td>\n",
       "      <td>360.0</td>\n",
       "      <td>1.0</td>\n",
       "      <td>Urban</td>\n",
       "      <td>Y</td>\n",
       "    </tr>\n",
       "  </tbody>\n",
       "</table>\n",
       "</div>"
      ],
      "text/plain": [
       "    Loan_ID Gender Married Dependents     Education Self_Employed  \\\n",
       "0  LP001002   Male      No          0      Graduate            No   \n",
       "1  LP001003   Male     Yes          1      Graduate            No   \n",
       "2  LP001005   Male     Yes          0      Graduate           Yes   \n",
       "3  LP001006   Male     Yes          0  Not Graduate            No   \n",
       "4  LP001008   Male      No          0      Graduate            No   \n",
       "\n",
       "   ApplicantIncome  CoapplicantIncome  LoanAmount  Loan_Amount_Term  \\\n",
       "0             5849                0.0         NaN             360.0   \n",
       "1             4583             1508.0       128.0             360.0   \n",
       "2             3000                0.0        66.0             360.0   \n",
       "3             2583             2358.0       120.0             360.0   \n",
       "4             6000                0.0       141.0             360.0   \n",
       "\n",
       "   Credit_History Property_Area Loan_Status  \n",
       "0             1.0         Urban           Y  \n",
       "1             1.0         Rural           N  \n",
       "2             1.0         Urban           Y  \n",
       "3             1.0         Urban           Y  \n",
       "4             1.0         Urban           Y  "
      ]
     },
     "execution_count": 184,
     "metadata": {},
     "output_type": "execute_result"
    }
   ],
   "source": [
    "data=pd.DataFrame(data)\n",
    "data.head()"
   ]
  },
  {
   "cell_type": "markdown",
   "id": "c44ff186",
   "metadata": {},
   "source": [
    "3.2 Shape of the dataset"
   ]
  },
  {
   "cell_type": "code",
   "execution_count": 185,
   "id": "6d2450f7",
   "metadata": {},
   "outputs": [
    {
     "data": {
      "text/plain": [
       "(614, 13)"
      ]
     },
     "execution_count": 185,
     "metadata": {},
     "output_type": "execute_result"
    }
   ],
   "source": [
    "#number of rows and columns\n",
    "data.shape"
   ]
  },
  {
   "cell_type": "markdown",
   "id": "43e234d1",
   "metadata": {},
   "source": [
    "3.3 Information about variable datatypes"
   ]
  },
  {
   "cell_type": "code",
   "execution_count": 186,
   "id": "878da04a",
   "metadata": {},
   "outputs": [
    {
     "name": "stdout",
     "output_type": "stream",
     "text": [
      "<class 'pandas.core.frame.DataFrame'>\n",
      "RangeIndex: 614 entries, 0 to 613\n",
      "Data columns (total 13 columns):\n",
      " #   Column             Non-Null Count  Dtype  \n",
      "---  ------             --------------  -----  \n",
      " 0   Loan_ID            614 non-null    object \n",
      " 1   Gender             601 non-null    object \n",
      " 2   Married            611 non-null    object \n",
      " 3   Dependents         599 non-null    object \n",
      " 4   Education          614 non-null    object \n",
      " 5   Self_Employed      582 non-null    object \n",
      " 6   ApplicantIncome    614 non-null    int64  \n",
      " 7   CoapplicantIncome  614 non-null    float64\n",
      " 8   LoanAmount         592 non-null    float64\n",
      " 9   Loan_Amount_Term   600 non-null    float64\n",
      " 10  Credit_History     564 non-null    float64\n",
      " 11  Property_Area      614 non-null    object \n",
      " 12  Loan_Status        614 non-null    object \n",
      "dtypes: float64(4), int64(1), object(8)\n",
      "memory usage: 62.5+ KB\n"
     ]
    }
   ],
   "source": [
    "data.info()"
   ]
  },
  {
   "cell_type": "markdown",
   "id": "54719f15",
   "metadata": {},
   "source": [
    "3.4 Descriptive Statistics of the dataset"
   ]
  },
  {
   "cell_type": "code",
   "execution_count": 187,
   "id": "82a786c8",
   "metadata": {},
   "outputs": [
    {
     "data": {
      "text/html": [
       "<div>\n",
       "<style scoped>\n",
       "    .dataframe tbody tr th:only-of-type {\n",
       "        vertical-align: middle;\n",
       "    }\n",
       "\n",
       "    .dataframe tbody tr th {\n",
       "        vertical-align: top;\n",
       "    }\n",
       "\n",
       "    .dataframe thead th {\n",
       "        text-align: right;\n",
       "    }\n",
       "</style>\n",
       "<table border=\"1\" class=\"dataframe\">\n",
       "  <thead>\n",
       "    <tr style=\"text-align: right;\">\n",
       "      <th></th>\n",
       "      <th>ApplicantIncome</th>\n",
       "      <th>CoapplicantIncome</th>\n",
       "      <th>LoanAmount</th>\n",
       "      <th>Loan_Amount_Term</th>\n",
       "      <th>Credit_History</th>\n",
       "    </tr>\n",
       "  </thead>\n",
       "  <tbody>\n",
       "    <tr>\n",
       "      <th>count</th>\n",
       "      <td>614.00</td>\n",
       "      <td>614.00</td>\n",
       "      <td>592.00</td>\n",
       "      <td>600.00</td>\n",
       "      <td>564.00</td>\n",
       "    </tr>\n",
       "    <tr>\n",
       "      <th>mean</th>\n",
       "      <td>5403.46</td>\n",
       "      <td>1621.25</td>\n",
       "      <td>146.41</td>\n",
       "      <td>342.00</td>\n",
       "      <td>0.84</td>\n",
       "    </tr>\n",
       "    <tr>\n",
       "      <th>std</th>\n",
       "      <td>6109.04</td>\n",
       "      <td>2926.25</td>\n",
       "      <td>85.59</td>\n",
       "      <td>65.12</td>\n",
       "      <td>0.36</td>\n",
       "    </tr>\n",
       "    <tr>\n",
       "      <th>min</th>\n",
       "      <td>150.00</td>\n",
       "      <td>0.00</td>\n",
       "      <td>9.00</td>\n",
       "      <td>12.00</td>\n",
       "      <td>0.00</td>\n",
       "    </tr>\n",
       "    <tr>\n",
       "      <th>25%</th>\n",
       "      <td>2877.50</td>\n",
       "      <td>0.00</td>\n",
       "      <td>100.00</td>\n",
       "      <td>360.00</td>\n",
       "      <td>1.00</td>\n",
       "    </tr>\n",
       "    <tr>\n",
       "      <th>50%</th>\n",
       "      <td>3812.50</td>\n",
       "      <td>1188.50</td>\n",
       "      <td>128.00</td>\n",
       "      <td>360.00</td>\n",
       "      <td>1.00</td>\n",
       "    </tr>\n",
       "    <tr>\n",
       "      <th>75%</th>\n",
       "      <td>5795.00</td>\n",
       "      <td>2297.25</td>\n",
       "      <td>168.00</td>\n",
       "      <td>360.00</td>\n",
       "      <td>1.00</td>\n",
       "    </tr>\n",
       "    <tr>\n",
       "      <th>max</th>\n",
       "      <td>81000.00</td>\n",
       "      <td>41667.00</td>\n",
       "      <td>700.00</td>\n",
       "      <td>480.00</td>\n",
       "      <td>1.00</td>\n",
       "    </tr>\n",
       "  </tbody>\n",
       "</table>\n",
       "</div>"
      ],
      "text/plain": [
       "       ApplicantIncome  CoapplicantIncome  LoanAmount  Loan_Amount_Term  \\\n",
       "count           614.00             614.00      592.00            600.00   \n",
       "mean           5403.46            1621.25      146.41            342.00   \n",
       "std            6109.04            2926.25       85.59             65.12   \n",
       "min             150.00               0.00        9.00             12.00   \n",
       "25%            2877.50               0.00      100.00            360.00   \n",
       "50%            3812.50            1188.50      128.00            360.00   \n",
       "75%            5795.00            2297.25      168.00            360.00   \n",
       "max           81000.00           41667.00      700.00            480.00   \n",
       "\n",
       "       Credit_History  \n",
       "count          564.00  \n",
       "mean             0.84  \n",
       "std              0.36  \n",
       "min              0.00  \n",
       "25%              1.00  \n",
       "50%              1.00  \n",
       "75%              1.00  \n",
       "max              1.00  "
      ]
     },
     "execution_count": 187,
     "metadata": {},
     "output_type": "execute_result"
    }
   ],
   "source": [
    "#Descriptive statistics\n",
    "data.describe()"
   ]
  },
  {
   "cell_type": "markdown",
   "id": "9b3b94b2",
   "metadata": {},
   "source": [
    "# 4. Data Cleaning"
   ]
  },
  {
   "cell_type": "markdown",
   "id": "7bedeece",
   "metadata": {},
   "source": [
    "4.1 Check for Duplicates"
   ]
  },
  {
   "cell_type": "code",
   "execution_count": 188,
   "id": "fbc97d21",
   "metadata": {},
   "outputs": [],
   "source": [
    "#Call drop_Duplicates on Dataframe to remove duplicates and aasign it back to dataframe\n",
    "data = data.drop_duplicates()"
   ]
  },
  {
   "cell_type": "code",
   "execution_count": 189,
   "id": "8637fadd",
   "metadata": {},
   "outputs": [
    {
     "data": {
      "text/plain": [
       "(614, 13)"
      ]
     },
     "execution_count": 189,
     "metadata": {},
     "output_type": "execute_result"
    }
   ],
   "source": [
    "#checking again number of rows before removing duplicates\n",
    "data.shape"
   ]
  },
  {
   "cell_type": "markdown",
   "id": "8c337184",
   "metadata": {},
   "source": [
    "There were no duplicates in the dataset."
   ]
  },
  {
   "cell_type": "markdown",
   "id": "4d5f5cc1",
   "metadata": {},
   "source": [
    "4.2 Check and remove Null Values"
   ]
  },
  {
   "cell_type": "code",
   "execution_count": 190,
   "id": "7af390de",
   "metadata": {},
   "outputs": [
    {
     "data": {
      "text/plain": [
       "Loan_ID               0\n",
       "Gender               13\n",
       "Married               3\n",
       "Dependents           15\n",
       "Education             0\n",
       "Self_Employed        32\n",
       "ApplicantIncome       0\n",
       "CoapplicantIncome     0\n",
       "LoanAmount           22\n",
       "Loan_Amount_Term     14\n",
       "Credit_History       50\n",
       "Property_Area         0\n",
       "Loan_Status           0\n",
       "dtype: int64"
      ]
     },
     "execution_count": 190,
     "metadata": {},
     "output_type": "execute_result"
    }
   ],
   "source": [
    "# of missing values in each column\n",
    "data.isnull().sum()"
   ]
  },
  {
   "cell_type": "code",
   "execution_count": 191,
   "id": "90be1296",
   "metadata": {},
   "outputs": [
    {
     "data": {
      "text/plain": [
       "Loan_ID              0\n",
       "Gender               0\n",
       "Married              0\n",
       "Dependents           0\n",
       "Education            0\n",
       "Self_Employed        0\n",
       "ApplicantIncome      0\n",
       "CoapplicantIncome    0\n",
       "LoanAmount           0\n",
       "Loan_Amount_Term     0\n",
       "Credit_History       0\n",
       "Property_Area        0\n",
       "Loan_Status          0\n",
       "dtype: int64"
      ]
     },
     "execution_count": 191,
     "metadata": {},
     "output_type": "execute_result"
    }
   ],
   "source": [
    "#dropping the missing values\n",
    "data = data.dropna()\n",
    "data.isnull().sum()\n",
    "#We could fill the missing values in 'LoanAmount' and Credit_History with the mean and Median respectively using \n",
    "#data['LoanAmount']=data['LoanAmount'].fillna(data['LoanAmount'].mean())\n",
    "#data['Credit_History']=data['Credit_History'].fillna(data['Credit_History'].median())"
   ]
  },
  {
   "cell_type": "markdown",
   "id": "b7345aea",
   "metadata": {},
   "source": [
    "# 5. Visualization of the data"
   ]
  },
  {
   "cell_type": "markdown",
   "id": "2e05e6fe",
   "metadata": {},
   "source": [
    "5.1 Encoding the categorical data into Quantitative data"
   ]
  },
  {
   "cell_type": "code",
   "execution_count": 192,
   "id": "67791f00",
   "metadata": {},
   "outputs": [
    {
     "data": {
      "text/plain": [
       "0     274\n",
       "2      85\n",
       "1      80\n",
       "3+     41\n",
       "Name: Dependents, dtype: int64"
      ]
     },
     "execution_count": 192,
     "metadata": {},
     "output_type": "execute_result"
    }
   ],
   "source": [
    "data['Dependents'].value_counts()"
   ]
  },
  {
   "cell_type": "code",
   "execution_count": 193,
   "id": "9fd2b833",
   "metadata": {},
   "outputs": [
    {
     "data": {
      "text/plain": [
       "0    274\n",
       "2     85\n",
       "1     80\n",
       "4     41\n",
       "Name: Dependents, dtype: int64"
      ]
     },
     "execution_count": 193,
     "metadata": {},
     "output_type": "execute_result"
    }
   ],
   "source": [
    "#replacing 3+ by 4\n",
    "data=data.replace({'Dependents':{'3+':4}})\n",
    "data['Dependents'].value_counts()"
   ]
  },
  {
   "cell_type": "code",
   "execution_count": 194,
   "id": "927e891a",
   "metadata": {},
   "outputs": [
    {
     "data": {
      "text/plain": [
       "Semiurban    191\n",
       "Urban        150\n",
       "Rural        139\n",
       "Name: Property_Area, dtype: int64"
      ]
     },
     "execution_count": 194,
     "metadata": {},
     "output_type": "execute_result"
    }
   ],
   "source": [
    "data['Property_Area'].value_counts()"
   ]
  },
  {
   "cell_type": "markdown",
   "id": "99e2ca3c",
   "metadata": {},
   "source": [
    "Converting all categorical variables to quantitative variables"
   ]
  },
  {
   "cell_type": "code",
   "execution_count": 195,
   "id": "66bd17e6",
   "metadata": {},
   "outputs": [],
   "source": [
    "#label encoding. We will convert all categorical variables to quantitative variables. EX:1=yes, 0=NO.\n",
    "data.replace({'Married':{'No':0,'Yes':1},'Gender':{'Male':1,'Female':0}, 'Self_Employed':{'No':0,'Yes':1},'Property_Area':\n",
    "             {'Rural':0,'Semiurban':1,'Urban':2}, 'Education':{'Graduate':1,'Not Graduate':0}},inplace=True)"
   ]
  },
  {
   "cell_type": "code",
   "execution_count": 196,
   "id": "5682993e",
   "metadata": {},
   "outputs": [],
   "source": [
    "#label encoding. This replaces categories with numbers. EX:1=yes, 0=NO.\n",
    "data.replace({\"Loan_Status\":{'N':0,'Y':1}},inplace=True)"
   ]
  },
  {
   "cell_type": "code",
   "execution_count": 197,
   "id": "5e2c189b",
   "metadata": {},
   "outputs": [
    {
     "data": {
      "text/html": [
       "<div>\n",
       "<style scoped>\n",
       "    .dataframe tbody tr th:only-of-type {\n",
       "        vertical-align: middle;\n",
       "    }\n",
       "\n",
       "    .dataframe tbody tr th {\n",
       "        vertical-align: top;\n",
       "    }\n",
       "\n",
       "    .dataframe thead th {\n",
       "        text-align: right;\n",
       "    }\n",
       "</style>\n",
       "<table border=\"1\" class=\"dataframe\">\n",
       "  <thead>\n",
       "    <tr style=\"text-align: right;\">\n",
       "      <th></th>\n",
       "      <th>Loan_ID</th>\n",
       "      <th>Gender</th>\n",
       "      <th>Married</th>\n",
       "      <th>Dependents</th>\n",
       "      <th>Education</th>\n",
       "      <th>Self_Employed</th>\n",
       "      <th>ApplicantIncome</th>\n",
       "      <th>CoapplicantIncome</th>\n",
       "      <th>LoanAmount</th>\n",
       "      <th>Loan_Amount_Term</th>\n",
       "      <th>Credit_History</th>\n",
       "      <th>Property_Area</th>\n",
       "      <th>Loan_Status</th>\n",
       "    </tr>\n",
       "  </thead>\n",
       "  <tbody>\n",
       "    <tr>\n",
       "      <th>1</th>\n",
       "      <td>LP001003</td>\n",
       "      <td>1</td>\n",
       "      <td>1</td>\n",
       "      <td>1</td>\n",
       "      <td>1</td>\n",
       "      <td>0</td>\n",
       "      <td>4583</td>\n",
       "      <td>1508.0</td>\n",
       "      <td>128.0</td>\n",
       "      <td>360.0</td>\n",
       "      <td>1.0</td>\n",
       "      <td>0</td>\n",
       "      <td>0</td>\n",
       "    </tr>\n",
       "    <tr>\n",
       "      <th>2</th>\n",
       "      <td>LP001005</td>\n",
       "      <td>1</td>\n",
       "      <td>1</td>\n",
       "      <td>0</td>\n",
       "      <td>1</td>\n",
       "      <td>1</td>\n",
       "      <td>3000</td>\n",
       "      <td>0.0</td>\n",
       "      <td>66.0</td>\n",
       "      <td>360.0</td>\n",
       "      <td>1.0</td>\n",
       "      <td>2</td>\n",
       "      <td>1</td>\n",
       "    </tr>\n",
       "    <tr>\n",
       "      <th>3</th>\n",
       "      <td>LP001006</td>\n",
       "      <td>1</td>\n",
       "      <td>1</td>\n",
       "      <td>0</td>\n",
       "      <td>0</td>\n",
       "      <td>0</td>\n",
       "      <td>2583</td>\n",
       "      <td>2358.0</td>\n",
       "      <td>120.0</td>\n",
       "      <td>360.0</td>\n",
       "      <td>1.0</td>\n",
       "      <td>2</td>\n",
       "      <td>1</td>\n",
       "    </tr>\n",
       "    <tr>\n",
       "      <th>4</th>\n",
       "      <td>LP001008</td>\n",
       "      <td>1</td>\n",
       "      <td>0</td>\n",
       "      <td>0</td>\n",
       "      <td>1</td>\n",
       "      <td>0</td>\n",
       "      <td>6000</td>\n",
       "      <td>0.0</td>\n",
       "      <td>141.0</td>\n",
       "      <td>360.0</td>\n",
       "      <td>1.0</td>\n",
       "      <td>2</td>\n",
       "      <td>1</td>\n",
       "    </tr>\n",
       "    <tr>\n",
       "      <th>5</th>\n",
       "      <td>LP001011</td>\n",
       "      <td>1</td>\n",
       "      <td>1</td>\n",
       "      <td>2</td>\n",
       "      <td>1</td>\n",
       "      <td>1</td>\n",
       "      <td>5417</td>\n",
       "      <td>4196.0</td>\n",
       "      <td>267.0</td>\n",
       "      <td>360.0</td>\n",
       "      <td>1.0</td>\n",
       "      <td>2</td>\n",
       "      <td>1</td>\n",
       "    </tr>\n",
       "  </tbody>\n",
       "</table>\n",
       "</div>"
      ],
      "text/plain": [
       "    Loan_ID  Gender  Married Dependents  Education  Self_Employed  \\\n",
       "1  LP001003       1        1          1          1              0   \n",
       "2  LP001005       1        1          0          1              1   \n",
       "3  LP001006       1        1          0          0              0   \n",
       "4  LP001008       1        0          0          1              0   \n",
       "5  LP001011       1        1          2          1              1   \n",
       "\n",
       "   ApplicantIncome  CoapplicantIncome  LoanAmount  Loan_Amount_Term  \\\n",
       "1             4583             1508.0       128.0             360.0   \n",
       "2             3000                0.0        66.0             360.0   \n",
       "3             2583             2358.0       120.0             360.0   \n",
       "4             6000                0.0       141.0             360.0   \n",
       "5             5417             4196.0       267.0             360.0   \n",
       "\n",
       "   Credit_History  Property_Area  Loan_Status  \n",
       "1             1.0              0            0  \n",
       "2             1.0              2            1  \n",
       "3             1.0              2            1  \n",
       "4             1.0              2            1  \n",
       "5             1.0              2            1  "
      ]
     },
     "execution_count": 197,
     "metadata": {},
     "output_type": "execute_result"
    }
   ],
   "source": [
    "data.head()"
   ]
  },
  {
   "cell_type": "markdown",
   "id": "7b04f589",
   "metadata": {},
   "source": [
    "5.2 Univariate Plots"
   ]
  },
  {
   "cell_type": "markdown",
   "id": "ae191f9a",
   "metadata": {},
   "source": [
    "Histograms of the Quantitative Variables"
   ]
  },
  {
   "cell_type": "code",
   "execution_count": 208,
   "id": "37f53618",
   "metadata": {},
   "outputs": [
    {
     "data": {
      "image/png": "[encoded data removed]",
      "text/plain": [
       "<Figure size 1080x1080 with 12 Axes>"
      ]
     },
     "metadata": {
      "needs_background": "light"
     },
     "output_type": "display_data"
    }
   ],
   "source": [
    "data.hist(xrot=-45, figsize=(15,15))\n",
    "plt.show()"
   ]
  },
  {
   "cell_type": "markdown",
   "id": "e18f235f",
   "metadata": {},
   "source": [
    "5.3  Multivariate Plots"
   ]
  },
  {
   "cell_type": "markdown",
   "id": "2593e135",
   "metadata": {},
   "source": [
    "Side-by-Side Bar Graphs, Correlation Matrix plot and HeatMap"
   ]
  },
  {
   "cell_type": "code",
   "execution_count": 199,
   "id": "eafe06dc",
   "metadata": {},
   "outputs": [
    {
     "data": {
      "image/png": "[encoded data removed]",
      "text/plain": [
       "<Figure size 720x720 with 2 Axes>"
      ]
     },
     "metadata": {
      "needs_background": "light"
     },
     "output_type": "display_data"
    }
   ],
   "source": [
    "plt.figure(figsize=(10,10))\n",
    "correlation = data.corr().round(4)\n",
    "sb.heatmap(data=correlation, annot=True)\n",
    "plt.show()"
   ]
  },
  {
   "cell_type": "code",
   "execution_count": 200,
   "id": "690bf7f0",
   "metadata": {
    "scrolled": true
   },
   "outputs": [
    {
     "data": {
      "text/html": [
       "<div>\n",
       "<style scoped>\n",
       "    .dataframe tbody tr th:only-of-type {\n",
       "        vertical-align: middle;\n",
       "    }\n",
       "\n",
       "    .dataframe tbody tr th {\n",
       "        vertical-align: top;\n",
       "    }\n",
       "\n",
       "    .dataframe thead th {\n",
       "        text-align: right;\n",
       "    }\n",
       "</style>\n",
       "<table border=\"1\" class=\"dataframe\">\n",
       "  <thead>\n",
       "    <tr style=\"text-align: right;\">\n",
       "      <th></th>\n",
       "      <th>Gender</th>\n",
       "      <th>Married</th>\n",
       "      <th>Education</th>\n",
       "      <th>Self_Employed</th>\n",
       "      <th>ApplicantIncome</th>\n",
       "      <th>CoapplicantIncome</th>\n",
       "      <th>LoanAmount</th>\n",
       "      <th>Loan_Amount_Term</th>\n",
       "      <th>Credit_History</th>\n",
       "      <th>Property_Area</th>\n",
       "      <th>Loan_Status</th>\n",
       "    </tr>\n",
       "  </thead>\n",
       "  <tbody>\n",
       "    <tr>\n",
       "      <th>Gender</th>\n",
       "      <td>1.00e+00</td>\n",
       "      <td>3.49e-01</td>\n",
       "      <td>-5.92e-02</td>\n",
       "      <td>-2.76e-03</td>\n",
       "      <td>0.03</td>\n",
       "      <td>1.56e-01</td>\n",
       "      <td>0.10</td>\n",
       "      <td>-8.87e-02</td>\n",
       "      <td>2.24e-02</td>\n",
       "      <td>-2.04e-04</td>\n",
       "      <td>6.45e-02</td>\n",
       "    </tr>\n",
       "    <tr>\n",
       "      <th>Married</th>\n",
       "      <td>3.49e-01</td>\n",
       "      <td>1.00e+00</td>\n",
       "      <td>-1.65e-03</td>\n",
       "      <td>1.57e-02</td>\n",
       "      <td>0.04</td>\n",
       "      <td>1.03e-01</td>\n",
       "      <td>0.18</td>\n",
       "      <td>-1.08e-01</td>\n",
       "      <td>2.91e-02</td>\n",
       "      <td>3.87e-02</td>\n",
       "      <td>1.12e-01</td>\n",
       "    </tr>\n",
       "    <tr>\n",
       "      <th>Education</th>\n",
       "      <td>-5.92e-02</td>\n",
       "      <td>-1.65e-03</td>\n",
       "      <td>1.00e+00</td>\n",
       "      <td>5.08e-03</td>\n",
       "      <td>0.13</td>\n",
       "      <td>7.45e-02</td>\n",
       "      <td>0.17</td>\n",
       "      <td>1.02e-01</td>\n",
       "      <td>5.67e-02</td>\n",
       "      <td>5.50e-02</td>\n",
       "      <td>6.84e-02</td>\n",
       "    </tr>\n",
       "    <tr>\n",
       "      <th>Self_Employed</th>\n",
       "      <td>-2.76e-03</td>\n",
       "      <td>1.57e-02</td>\n",
       "      <td>5.08e-03</td>\n",
       "      <td>1.00e+00</td>\n",
       "      <td>0.17</td>\n",
       "      <td>-1.51e-03</td>\n",
       "      <td>0.12</td>\n",
       "      <td>-3.49e-02</td>\n",
       "      <td>-2.36e-02</td>\n",
       "      <td>-5.08e-02</td>\n",
       "      <td>-3.47e-02</td>\n",
       "    </tr>\n",
       "    <tr>\n",
       "      <th>ApplicantIncome</th>\n",
       "      <td>3.26e-02</td>\n",
       "      <td>3.67e-02</td>\n",
       "      <td>1.31e-01</td>\n",
       "      <td>1.71e-01</td>\n",
       "      <td>1.00</td>\n",
       "      <td>-1.13e-01</td>\n",
       "      <td>0.50</td>\n",
       "      <td>-1.08e-02</td>\n",
       "      <td>-5.62e-02</td>\n",
       "      <td>-5.32e-02</td>\n",
       "      <td>-4.32e-02</td>\n",
       "    </tr>\n",
       "    <tr>\n",
       "      <th>CoapplicantIncome</th>\n",
       "      <td>1.56e-01</td>\n",
       "      <td>1.03e-01</td>\n",
       "      <td>7.45e-02</td>\n",
       "      <td>-1.51e-03</td>\n",
       "      <td>-0.11</td>\n",
       "      <td>1.00e+00</td>\n",
       "      <td>0.19</td>\n",
       "      <td>-5.77e-03</td>\n",
       "      <td>-8.69e-03</td>\n",
       "      <td>6.54e-03</td>\n",
       "      <td>-4.90e-02</td>\n",
       "    </tr>\n",
       "    <tr>\n",
       "      <th>LoanAmount</th>\n",
       "      <td>9.90e-02</td>\n",
       "      <td>1.83e-01</td>\n",
       "      <td>1.73e-01</td>\n",
       "      <td>1.20e-01</td>\n",
       "      <td>0.50</td>\n",
       "      <td>1.91e-01</td>\n",
       "      <td>1.00</td>\n",
       "      <td>5.09e-02</td>\n",
       "      <td>-4.08e-02</td>\n",
       "      <td>-1.10e-01</td>\n",
       "      <td>-7.18e-02</td>\n",
       "    </tr>\n",
       "    <tr>\n",
       "      <th>Loan_Amount_Term</th>\n",
       "      <td>-8.87e-02</td>\n",
       "      <td>-1.08e-01</td>\n",
       "      <td>1.02e-01</td>\n",
       "      <td>-3.49e-02</td>\n",
       "      <td>-0.01</td>\n",
       "      <td>-5.77e-03</td>\n",
       "      <td>0.05</td>\n",
       "      <td>1.00e+00</td>\n",
       "      <td>3.29e-02</td>\n",
       "      <td>-5.87e-02</td>\n",
       "      <td>-7.80e-03</td>\n",
       "    </tr>\n",
       "    <tr>\n",
       "      <th>Credit_History</th>\n",
       "      <td>2.24e-02</td>\n",
       "      <td>2.91e-02</td>\n",
       "      <td>5.67e-02</td>\n",
       "      <td>-2.36e-02</td>\n",
       "      <td>-0.06</td>\n",
       "      <td>-8.69e-03</td>\n",
       "      <td>-0.04</td>\n",
       "      <td>3.29e-02</td>\n",
       "      <td>1.00e+00</td>\n",
       "      <td>-3.01e-03</td>\n",
       "      <td>5.29e-01</td>\n",
       "    </tr>\n",
       "    <tr>\n",
       "      <th>Property_Area</th>\n",
       "      <td>-2.04e-04</td>\n",
       "      <td>3.87e-02</td>\n",
       "      <td>5.50e-02</td>\n",
       "      <td>-5.08e-02</td>\n",
       "      <td>-0.05</td>\n",
       "      <td>6.54e-03</td>\n",
       "      <td>-0.11</td>\n",
       "      <td>-5.87e-02</td>\n",
       "      <td>-3.01e-03</td>\n",
       "      <td>1.00e+00</td>\n",
       "      <td>3.14e-02</td>\n",
       "    </tr>\n",
       "    <tr>\n",
       "      <th>Loan_Status</th>\n",
       "      <td>6.45e-02</td>\n",
       "      <td>1.12e-01</td>\n",
       "      <td>6.84e-02</td>\n",
       "      <td>-3.47e-02</td>\n",
       "      <td>-0.04</td>\n",
       "      <td>-4.90e-02</td>\n",
       "      <td>-0.07</td>\n",
       "      <td>-7.80e-03</td>\n",
       "      <td>5.29e-01</td>\n",
       "      <td>3.14e-02</td>\n",
       "      <td>1.00e+00</td>\n",
       "    </tr>\n",
       "  </tbody>\n",
       "</table>\n",
       "</div>"
      ],
      "text/plain": [
       "                     Gender   Married  Education  Self_Employed  \\\n",
       "Gender             1.00e+00  3.49e-01  -5.92e-02      -2.76e-03   \n",
       "Married            3.49e-01  1.00e+00  -1.65e-03       1.57e-02   \n",
       "Education         -5.92e-02 -1.65e-03   1.00e+00       5.08e-03   \n",
       "Self_Employed     -2.76e-03  1.57e-02   5.08e-03       1.00e+00   \n",
       "ApplicantIncome    3.26e-02  3.67e-02   1.31e-01       1.71e-01   \n",
       "CoapplicantIncome  1.56e-01  1.03e-01   7.45e-02      -1.51e-03   \n",
       "LoanAmount         9.90e-02  1.83e-01   1.73e-01       1.20e-01   \n",
       "Loan_Amount_Term  -8.87e-02 -1.08e-01   1.02e-01      -3.49e-02   \n",
       "Credit_History     2.24e-02  2.91e-02   5.67e-02      -2.36e-02   \n",
       "Property_Area     -2.04e-04  3.87e-02   5.50e-02      -5.08e-02   \n",
       "Loan_Status        6.45e-02  1.12e-01   6.84e-02      -3.47e-02   \n",
       "\n",
       "                   ApplicantIncome  CoapplicantIncome  LoanAmount  \\\n",
       "Gender                        0.03           1.56e-01        0.10   \n",
       "Married                       0.04           1.03e-01        0.18   \n",
       "Education                     0.13           7.45e-02        0.17   \n",
       "Self_Employed                 0.17          -1.51e-03        0.12   \n",
       "ApplicantIncome               1.00          -1.13e-01        0.50   \n",
       "CoapplicantIncome            -0.11           1.00e+00        0.19   \n",
       "LoanAmount                    0.50           1.91e-01        1.00   \n",
       "Loan_Amount_Term             -0.01          -5.77e-03        0.05   \n",
       "Credit_History               -0.06          -8.69e-03       -0.04   \n",
       "Property_Area                -0.05           6.54e-03       -0.11   \n",
       "Loan_Status                  -0.04          -4.90e-02       -0.07   \n",
       "\n",
       "                   Loan_Amount_Term  Credit_History  Property_Area  \\\n",
       "Gender                    -8.87e-02        2.24e-02      -2.04e-04   \n",
       "Married                   -1.08e-01        2.91e-02       3.87e-02   \n",
       "Education                  1.02e-01        5.67e-02       5.50e-02   \n",
       "Self_Employed             -3.49e-02       -2.36e-02      -5.08e-02   \n",
       "ApplicantIncome           -1.08e-02       -5.62e-02      -5.32e-02   \n",
       "CoapplicantIncome         -5.77e-03       -8.69e-03       6.54e-03   \n",
       "LoanAmount                 5.09e-02       -4.08e-02      -1.10e-01   \n",
       "Loan_Amount_Term           1.00e+00        3.29e-02      -5.87e-02   \n",
       "Credit_History             3.29e-02        1.00e+00      -3.01e-03   \n",
       "Property_Area             -5.87e-02       -3.01e-03       1.00e+00   \n",
       "Loan_Status               -7.80e-03        5.29e-01       3.14e-02   \n",
       "\n",
       "                   Loan_Status  \n",
       "Gender                6.45e-02  \n",
       "Married               1.12e-01  \n",
       "Education             6.84e-02  \n",
       "Self_Employed        -3.47e-02  \n",
       "ApplicantIncome      -4.32e-02  \n",
       "CoapplicantIncome    -4.90e-02  \n",
       "LoanAmount           -7.18e-02  \n",
       "Loan_Amount_Term     -7.80e-03  \n",
       "Credit_History        5.29e-01  \n",
       "Property_Area         3.14e-02  \n",
       "Loan_Status           1.00e+00  "
      ]
     },
     "execution_count": 200,
     "metadata": {},
     "output_type": "execute_result"
    }
   ],
   "source": [
    "data.corr()"
   ]
  },
  {
   "cell_type": "markdown",
   "id": "f469997e",
   "metadata": {},
   "source": [
    "Independent variables are not correlated."
   ]
  },
  {
   "cell_type": "code",
   "execution_count": 201,
   "id": "d6db5733",
   "metadata": {},
   "outputs": [
    {
     "data": {
      "text/plain": [
       "<AxesSubplot:xlabel='Education', ylabel='count'>"
      ]
     },
     "execution_count": 201,
     "metadata": {},
     "output_type": "execute_result"
    },
    {
     "data": {
      "image/png": "[encoded data removed]",
      "text/plain": [
       "<Figure size 432x288 with 1 Axes>"
      ]
     },
     "metadata": {
      "needs_background": "light"
     },
     "output_type": "display_data"
    }
   ],
   "source": [
    "#Checking correlations between Education and Loan_Status variables\n",
    "sb.countplot(x ='Education', hue ='Loan_Status', data=data)"
   ]
  },
  {
   "cell_type": "markdown",
   "id": "6abbb7ec",
   "metadata": {},
   "source": [
    "It appears there is a strong association between the two variables. Graduates are more likely to get their loans approved than nongraduates."
   ]
  },
  {
   "cell_type": "code",
   "execution_count": 202,
   "id": "44089b8c",
   "metadata": {},
   "outputs": [
    {
     "data": {
      "text/plain": [
       "<AxesSubplot:xlabel='Married', ylabel='count'>"
      ]
     },
     "execution_count": 202,
     "metadata": {},
     "output_type": "execute_result"
    },
    {
     "data": {
      "image/png": "[encoded data removed]",
      "text/plain": [
       "<Figure size 432x288 with 1 Axes>"
      ]
     },
     "metadata": {
      "needs_background": "light"
     },
     "output_type": "display_data"
    }
   ],
   "source": [
    "#Checking correlations between Education and Marrital_Status variables\n",
    "sb.countplot(x='Married', hue='Loan_Status', data=data)"
   ]
  },
  {
   "cell_type": "code",
   "execution_count": 212,
   "id": "ca79fce1",
   "metadata": {},
   "outputs": [
    {
     "data": {
      "text/plain": [
       "<AxesSubplot:xlabel='Married', ylabel='count'>"
      ]
     },
     "execution_count": 212,
     "metadata": {},
     "output_type": "execute_result"
    },
    {
     "data": {
      "image/png": "[encoded data removed]",
      "text/plain": [
       "<Figure size 432x288 with 1 Axes>"
      ]
     },
     "metadata": {
      "needs_background": "light"
     },
     "output_type": "display_data"
    }
   ],
   "source": [
    "#Checking correlations between Education and Marrital_Status variables\n",
    "sb.countplot(x='Married', hue='Gender', data=data)"
   ]
  },
  {
   "cell_type": "markdown",
   "id": "b2ac9bea",
   "metadata": {},
   "source": [
    "It appears there is a strong association between the two variables. Married are more likely to get their loans approved than unmarried."
   ]
  },
  {
   "cell_type": "code",
   "execution_count": 210,
   "id": "9d314238",
   "metadata": {},
   "outputs": [
    {
     "data": {
      "image/png": "[encoded data removed]",
      "text/plain": [
       "<Figure size 432x288 with 1 Axes>"
      ]
     },
     "metadata": {
      "needs_background": "light"
     },
     "output_type": "display_data"
    }
   ],
   "source": [
    "sb.boxplot(x='Gender', y='LoanAmount', data=data)\n",
    "plt.show()"
   ]
  },
  {
   "cell_type": "code",
   "execution_count": 211,
   "id": "62079b5f",
   "metadata": {},
   "outputs": [
    {
     "data": {
      "image/png": "[encoded data removed]",
      "text/plain": [
       "<Figure size 432x288 with 1 Axes>"
      ]
     },
     "metadata": {
      "needs_background": "light"
     },
     "output_type": "display_data"
    }
   ],
   "source": [
    "sb.boxplot(x='Gender', y='ApplicantIncome', data=data)\n",
    "plt.show()"
   ]
  },
  {
   "cell_type": "markdown",
   "id": "b7443ad8",
   "metadata": {},
   "source": [
    "# 6. FEATURE ENGENIERING"
   ]
  },
  {
   "cell_type": "markdown",
   "id": "af77c2c6",
   "metadata": {},
   "source": [
    "6.1 Creating Dependent And Independent Variables"
   ]
  },
  {
   "cell_type": "code",
   "execution_count": 218,
   "id": "d59c13f2",
   "metadata": {},
   "outputs": [
    {
     "name": "stdout",
     "output_type": "stream",
     "text": [
      "     Gender  Married Dependents  Education  Self_Employed  ApplicantIncome  \\\n",
      "1         1        1          1          1              0             4583   \n",
      "2         1        1          0          1              1             3000   \n",
      "3         1        1          0          0              0             2583   \n",
      "4         1        0          0          1              0             6000   \n",
      "5         1        1          2          1              1             5417   \n",
      "..      ...      ...        ...        ...            ...              ...   \n",
      "609       0        0          0          1              0             2900   \n",
      "610       1        1          4          1              0             4106   \n",
      "611       1        1          1          1              0             8072   \n",
      "612       1        1          2          1              0             7583   \n",
      "613       0        0          0          1              1             4583   \n",
      "\n",
      "     CoapplicantIncome  LoanAmount  Loan_Amount_Term  Credit_History  \\\n",
      "1               1508.0       128.0             360.0             1.0   \n",
      "2                  0.0        66.0             360.0             1.0   \n",
      "3               2358.0       120.0             360.0             1.0   \n",
      "4                  0.0       141.0             360.0             1.0   \n",
      "5               4196.0       267.0             360.0             1.0   \n",
      "..                 ...         ...               ...             ...   \n",
      "609                0.0        71.0             360.0             1.0   \n",
      "610                0.0        40.0             180.0             1.0   \n",
      "611              240.0       253.0             360.0             1.0   \n",
      "612                0.0       187.0             360.0             1.0   \n",
      "613                0.0       133.0             360.0             0.0   \n",
      "\n",
      "     Property_Area  \n",
      "1                0  \n",
      "2                2  \n",
      "3                2  \n",
      "4                2  \n",
      "5                2  \n",
      "..             ...  \n",
      "609              0  \n",
      "610              0  \n",
      "611              2  \n",
      "612              2  \n",
      "613              1  \n",
      "\n",
      "[480 rows x 11 columns]\n",
      "1      0\n",
      "2      1\n",
      "3      1\n",
      "4      1\n",
      "5      1\n",
      "      ..\n",
      "609    1\n",
      "610    1\n",
      "611    1\n",
      "612    1\n",
      "613    0\n",
      "Name: Loan_Status, Length: 480, dtype: int64\n"
     ]
    }
   ],
   "source": [
    "#We need to separate data and label. We could also use the following codes:\n",
    "#X = data.iloc[1:542,1:12]\n",
    "#y = data.iloc[1:542,12]\n",
    "X = data.drop(columns={'Loan_ID','Loan_Status'}, axis=1) #axis=1 for removing columns and axis=1 for rows\n",
    "y = data['Loan_Status']\n",
    "print(X)\n",
    "print(y)"
   ]
  },
  {
   "cell_type": "code",
   "execution_count": 226,
   "id": "8d5c5a7a",
   "metadata": {},
   "outputs": [
    {
     "data": {
      "text/html": [
       "<div>\n",
       "<style scoped>\n",
       "    .dataframe tbody tr th:only-of-type {\n",
       "        vertical-align: middle;\n",
       "    }\n",
       "\n",
       "    .dataframe tbody tr th {\n",
       "        vertical-align: top;\n",
       "    }\n",
       "\n",
       "    .dataframe thead th {\n",
       "        text-align: right;\n",
       "    }\n",
       "</style>\n",
       "<table border=\"1\" class=\"dataframe\">\n",
       "  <thead>\n",
       "    <tr style=\"text-align: right;\">\n",
       "      <th></th>\n",
       "      <th>VIF Factor</th>\n",
       "      <th>features</th>\n",
       "    </tr>\n",
       "  </thead>\n",
       "  <tbody>\n",
       "    <tr>\n",
       "      <th>0</th>\n",
       "      <td>6.03</td>\n",
       "      <td>Gender</td>\n",
       "    </tr>\n",
       "    <tr>\n",
       "      <th>1</th>\n",
       "      <td>3.68</td>\n",
       "      <td>Married</td>\n",
       "    </tr>\n",
       "    <tr>\n",
       "      <th>2</th>\n",
       "      <td>1.79</td>\n",
       "      <td>Dependents</td>\n",
       "    </tr>\n",
       "  </tbody>\n",
       "</table>\n",
       "</div>"
      ],
      "text/plain": [
       "   VIF Factor    features\n",
       "0        6.03      Gender\n",
       "1        3.68     Married\n",
       "2        1.79  Dependents"
      ]
     },
     "execution_count": 226,
     "metadata": {},
     "output_type": "execute_result"
    }
   ],
   "source": [
    "# For each X, calculate VIF and save in dataframe\n",
    "from statsmodels.stats.outliers_influence import variance_inflation_factor\n",
    "vif = pd.DataFrame()\n",
    "vif[\"VIF Factor\"] = [variance_inflation_factor(X.values.astype(int), i) for i in range(X.shape[1])]\n",
    "vif[\"features\"] = X.columns\n",
    "vif.head(3)"
   ]
  },
  {
   "cell_type": "markdown",
   "id": "5a132f90",
   "metadata": {},
   "source": [
    "6.2 Split Dataset to Train and Test"
   ]
  },
  {
   "cell_type": "code",
   "execution_count": null,
   "id": "c1b616a2",
   "metadata": {},
   "outputs": [],
   "source": [
    "X_train, X_test, y_train, y_test = train_test_split(X,y,test_size=0.1, stratify=y, random_state=2)"
   ]
  },
  {
   "cell_type": "code",
   "execution_count": null,
   "id": "8a035b9c",
   "metadata": {},
   "outputs": [],
   "source": [
    "print(X.shape, X_train.shape, X_test.shape)"
   ]
  },
  {
   "cell_type": "markdown",
   "id": "5d87417d",
   "metadata": {},
   "source": [
    "## 7. MACHINE LEARNING MODELS (Regression Models)"
   ]
  },
  {
   "cell_type": "code",
   "execution_count": null,
   "id": "980d85a8",
   "metadata": {},
   "outputs": [],
   "source": [
    "from sklearn.linear_model import LinearRegression\n",
    "from sklearn.linear_model import Ridge\n",
    "from sklearn.linear_model import Lasso\n",
    "from sklearn.linear_model import ElasticNet\n",
    "from sklearn.ensemble import RandomForestRegressor\n",
    "from sklearn.preprocessing import PolynomialFeatures\n",
    "from xgboost import XGBRegressor\n",
    "from sklearn.model_selection import cross_val_score"
   ]
  },
  {
   "cell_type": "code",
   "execution_count": null,
   "id": "db36a79a",
   "metadata": {},
   "outputs": [],
   "source": [
    "from sklearn.metrics import r2_score, mean_absolute_error, mean_squared_error\n",
    "def rmse_cv(model):\n",
    "    rmse = np.sqrt(-cross_val_score(model, X, y, scoring=\"neg_mean_squared_error\", cv=5)).mean()\n",
    "    return rmse\n",
    "    \n",
    "\n",
    "def evaluation(y, prediction):\n",
    "    mae = mean_absolute_error(y, prediction)\n",
    "    mse = mean_squared_error(y, prediction)\n",
    "    rmse = np.sqrt(mean_squared_error(y, prediction))\n",
    "    r_squared = r2_score(y, prediction)\n",
    "    return mae, mse, rmse, r_squared"
   ]
  },
  {
   "cell_type": "code",
   "execution_count": null,
   "id": "1f91c4d1",
   "metadata": {},
   "outputs": [],
   "source": [
    "models = pd.DataFrame(columns=[\"Model\",\"MAE\",\"MSE\",\"RMSE\",\"R2 Score\",\"RMSE (Cross-Validation)\"])"
   ]
  },
  {
   "cell_type": "markdown",
   "id": "7e288782",
   "metadata": {},
   "source": [
    "7.1 Support Vector Machine Model "
   ]
  },
  {
   "cell_type": "markdown",
   "id": "d20a042e",
   "metadata": {},
   "source": [
    "7.1.1 Building the SVM model on the Train Dataset"
   ]
  },
  {
   "cell_type": "code",
   "execution_count": null,
   "id": "49c0ce7e",
   "metadata": {},
   "outputs": [],
   "source": [
    "#Training the model using the support vector machine model\n",
    "#svr= SVC(kernel='linear')\n",
    "svr = SVC(C=100000)"
   ]
  },
  {
   "cell_type": "code",
   "execution_count": null,
   "id": "b5559853",
   "metadata": {},
   "outputs": [],
   "source": [
    "svr.fit(X_train, y_train) #this will train the model"
   ]
  },
  {
   "cell_type": "markdown",
   "id": "6a21ee8b",
   "metadata": {},
   "source": [
    "7.1.2 Applying the Trained Model on the Train Dataset to Predict Values"
   ]
  },
  {
   "cell_type": "code",
   "execution_count": null,
   "id": "42e94907",
   "metadata": {},
   "outputs": [],
   "source": [
    "#accuracy score on training data\n",
    "X_train_prediction = svr.predict(X_train)"
   ]
  },
  {
   "cell_type": "code",
   "execution_count": null,
   "id": "82a7b956",
   "metadata": {},
   "outputs": [],
   "source": [
    "training_data_accuracy=accuracy_score(X_train_prediction,y_train)"
   ]
  },
  {
   "cell_type": "code",
   "execution_count": null,
   "id": "add4dc76",
   "metadata": {},
   "outputs": [],
   "source": [
    "print(\"accuracy on training data:\",training_data_accuracy)"
   ]
  },
  {
   "cell_type": "markdown",
   "id": "d5a9355e",
   "metadata": {},
   "source": [
    "7.1.3 Applying the Trained Model on the Test Dataset to Predict Values"
   ]
  },
  {
   "cell_type": "code",
   "execution_count": null,
   "id": "88a760cd",
   "metadata": {},
   "outputs": [],
   "source": [
    "#accuracy score on test data\n",
    "X_testing_prediction = svr.predict(X_test)"
   ]
  },
  {
   "cell_type": "code",
   "execution_count": null,
   "id": "7ffe7787",
   "metadata": {},
   "outputs": [],
   "source": [
    "testing_data_accuracy=accuracy_score(X_testing_prediction,y_test)"
   ]
  },
  {
   "cell_type": "code",
   "execution_count": null,
   "id": "3fe4a60f",
   "metadata": {},
   "outputs": [],
   "source": [
    "print(\"accuracy on testing data:\",testing_data_accuracy)"
   ]
  },
  {
   "cell_type": "code",
   "execution_count": null,
   "id": "db462c23",
   "metadata": {},
   "outputs": [],
   "source": [
    "#svr = SVC(C=100000)\n",
    "#svr.fit(X_train, y_train)\n",
    "predictions = svr.predict(X_test)\n",
    "\n",
    "mae, mse, rmse, r_squared = evaluation(y_test, predictions)\n",
    "print(\"MAE:\", mae)\n",
    "print(\"MSE:\", mse)\n",
    "print(\"RMSE:\", rmse)\n",
    "print(\"R2 Score:\", r_squared)\n",
    "print(\"-\"*30)\n",
    "rmse_cross_val = rmse_cv(svr)\n",
    "print(\"RMSE Cross-Validation:\", rmse_cross_val)\n",
    "\n",
    "new_row = {\"Model\": \"SVR\",\"MAE\": mae, \"MSE\": mse, \"RMSE\": rmse, \"R2 Score\": r_squared, \"RMSE (Cross-Validation)\": rmse_cross_val}\n",
    "models = models.append(new_row, ignore_index=True)"
   ]
  },
  {
   "cell_type": "markdown",
   "id": "1f878097",
   "metadata": {},
   "source": [
    "7.1.4 Using the Model for Prediction"
   ]
  },
  {
   "cell_type": "code",
   "execution_count": null,
   "id": "25e98338",
   "metadata": {},
   "outputs": [],
   "source": [
    "#Input data as a numpy array\n",
    "Input_data =  (1,1,2,1,0,7583,0.0,187.0,360.0,1.0,2)\n",
    "#changing to numpy array\n",
    "Input_data = np.asarray(Input_data)\n",
    "#reshape the array as we are predicting for one instance\n",
    "std_data=Input_data.reshape(1,-1)\n",
    "#Standardize the input data\n",
    "#std_data = scaler.transform(Input_data)\n",
    "print(std_data)\n",
    "prediction =svr.predict(std_data)\n",
    "print(prediction)\n",
    "\n",
    "if (prediction[0] ==0):\n",
    "    print('CONCLUSION: The person is not Granted the Loan')\n",
    "else:\n",
    "    print('CONCLUSION: The person is Granted the Loan')\n",
    "    "
   ]
  },
  {
   "cell_type": "markdown",
   "id": "0ec525f5",
   "metadata": {},
   "source": [
    "7.2 LINEAR REGRESSION MODEL"
   ]
  },
  {
   "cell_type": "code",
   "execution_count": null,
   "id": "31680602",
   "metadata": {},
   "outputs": [],
   "source": [
    "lin_reg = LinearRegression()\n",
    "lin_reg.fit(X_train, y_train)\n",
    "predictions = lin_reg.predict(X_test)\n",
    "\n",
    "mae, mse, rmse, r_squared = evaluation(y_test, predictions)\n",
    "print(\"MAE:\", mae)\n",
    "print(\"MSE:\", mse)\n",
    "print(\"RMSE:\", rmse)\n",
    "print(\"R2 Score:\", r_squared)\n",
    "print(\"-\"*30)\n",
    "rmse_cross_val = rmse_cv(lin_reg)\n",
    "print(\"RMSE Cross-Validation:\", rmse_cross_val)\n",
    "\n",
    "new_row = {\"Model\": \"LinearRegression\",\"MAE\": mae, \"MSE\": mse, \"RMSE\": rmse, \"R2 Score\": r_squared, \"RMSE (Cross-Validation)\": rmse_cross_val}\n",
    "models = models.append(new_row, ignore_index=True)"
   ]
  },
  {
   "cell_type": "markdown",
   "id": "38a668a6",
   "metadata": {},
   "source": [
    "7.3 RIDGE REGRESSION MODEL"
   ]
  },
  {
   "cell_type": "code",
   "execution_count": null,
   "id": "a4e5493a",
   "metadata": {},
   "outputs": [],
   "source": [
    "ridge = Ridge()\n",
    "ridge.fit(X_train, y_train)\n",
    "predictions = ridge.predict(X_test)\n",
    "\n",
    "mae, mse, rmse, r_squared = evaluation(y_test, predictions)\n",
    "print(\"MAE:\", mae)\n",
    "print(\"MSE:\", mse)\n",
    "print(\"RMSE:\", rmse)\n",
    "print(\"R2 Score:\", r_squared)\n",
    "print(\"-\"*30)\n",
    "rmse_cross_val = rmse_cv(ridge)\n",
    "print(\"RMSE Cross-Validation:\", rmse_cross_val)\n",
    "\n",
    "new_row = {\"Model\": \"Ridge\",\"MAE\": mae, \"MSE\": mse, \"RMSE\": rmse, \"R2 Score\": r_squared, \"RMSE (Cross-Validation)\": rmse_cross_val}\n",
    "models = models.append(new_row, ignore_index=True)"
   ]
  },
  {
   "cell_type": "markdown",
   "id": "a6641eb7",
   "metadata": {},
   "source": [
    "7.4 LASSO REGRESSION MODEL"
   ]
  },
  {
   "cell_type": "code",
   "execution_count": null,
   "id": "458217bd",
   "metadata": {},
   "outputs": [],
   "source": [
    "lasso = Lasso()\n",
    "lasso.fit(X_train, y_train)\n",
    "predictions = lasso.predict(X_test)\n",
    "\n",
    "mae, mse, rmse, r_squared = evaluation(y_test, predictions)\n",
    "print(\"MAE:\", mae)\n",
    "print(\"MSE:\", mse)\n",
    "print(\"RMSE:\", rmse)\n",
    "print(\"R2 Score:\", r_squared)\n",
    "print(\"-\"*30)\n",
    "rmse_cross_val = rmse_cv(lasso)\n",
    "print(\"RMSE Cross-Validation:\", rmse_cross_val)\n",
    "\n",
    "new_row = {\"Model\": \"Lasso\",\"MAE\": mae, \"MSE\": mse, \"RMSE\": rmse, \"R2 Score\": r_squared, \"RMSE (Cross-Validation)\": rmse_cross_val}\n",
    "models = models.append(new_row, ignore_index=True)"
   ]
  },
  {
   "cell_type": "markdown",
   "id": "5831737d",
   "metadata": {},
   "source": [
    "7.5 QUADRATIC POLYNOMIAL REGRESSION MODEL"
   ]
  },
  {
   "cell_type": "code",
   "execution_count": 235,
   "id": "c1cccffa",
   "metadata": {},
   "outputs": [
    {
     "name": "stdout",
     "output_type": "stream",
     "text": [
      "MAE: 0.6242492266974295\n",
      "MSE: 0.772895985692981\n",
      "RMSE: 0.8791450310915606\n",
      "R2 Score: -2.597479497043693\n",
      "------------------------------\n",
      "RMSE Cross-Validation: 0.3989544959041722\n"
     ]
    }
   ],
   "source": [
    "poly_reg = PolynomialFeatures(degree=2)\n",
    "X_train_2d = poly_reg.fit_transform(X_train)\n",
    "X_test_2d = poly_reg.transform(X_test)\n",
    "\n",
    "lin_reg = LinearRegression()\n",
    "lin_reg.fit(X_train_2d, y_train)\n",
    "predictions = lin_reg.predict(X_test_2d)\n",
    "\n",
    "mae, mse, rmse, r_squared = evaluation(y_test, predictions)\n",
    "print(\"MAE:\", mae)\n",
    "print(\"MSE:\", mse)\n",
    "print(\"RMSE:\", rmse)\n",
    "print(\"R2 Score:\", r_squared)\n",
    "print(\"-\"*30)\n",
    "rmse_cross_val = rmse_cv(lin_reg)\n",
    "print(\"RMSE Cross-Validation:\", rmse_cross_val)\n",
    "\n",
    "new_row = {\"Model\": \"Quadratic Polynomial Regression\",\"MAE\": mae, \"MSE\": mse, \"RMSE\": rmse, \"R2 Score\": r_squared, \"RMSE (Cross-Validation)\": rmse_cross_val}\n",
    "models = models.append(new_row, ignore_index=True)"
   ]
  },
  {
   "cell_type": "markdown",
   "id": "a09cbe61",
   "metadata": {},
   "source": [
    "7.6 ELASTIC NET"
   ]
  },
  {
   "cell_type": "code",
   "execution_count": 206,
   "id": "80bd7a85",
   "metadata": {},
   "outputs": [
    {
     "name": "stdout",
     "output_type": "stream",
     "text": [
      "MAE: 0.4239272237477487\n",
      "MSE: 0.2142270675520006\n",
      "RMSE: 0.46284669983915905\n",
      "R2 Score: 0.0028703764852335834\n",
      "------------------------------\n",
      "RMSE Cross-Validation: 0.4652070638372917\n"
     ]
    }
   ],
   "source": [
    "elastic_net = ElasticNet()\n",
    "elastic_net.fit(X_train, y_train)\n",
    "predictions = elastic_net.predict(X_test)\n",
    "\n",
    "mae, mse, rmse, r_squared = evaluation(y_test, predictions)\n",
    "print(\"MAE:\", mae)\n",
    "print(\"MSE:\", mse)\n",
    "print(\"RMSE:\", rmse)\n",
    "print(\"R2 Score:\", r_squared)\n",
    "print(\"-\"*30)\n",
    "rmse_cross_val = rmse_cv(elastic_net)\n",
    "print(\"RMSE Cross-Validation:\", rmse_cross_val)\n",
    "\n",
    "new_row = {\"Model\": \"ElasticNet\",\"MAE\": mae, \"MSE\": mse, \"RMSE\": rmse, \"R2 Score\": r_squared, \"RMSE (Cross-Validation)\": rmse_cross_val}\n",
    "models = models.append(new_row, ignore_index=True)"
   ]
  },
  {
   "cell_type": "markdown",
   "id": "6f73213c",
   "metadata": {},
   "source": [
    "7.7 RANDOM FOREST REGRESSOR"
   ]
  },
  {
   "cell_type": "code",
   "execution_count": 231,
   "id": "91be8cd4",
   "metadata": {},
   "outputs": [
    {
     "name": "stdout",
     "output_type": "stream",
     "text": [
      "MAE: 0.26875\n",
      "MSE: 0.14373333333333332\n",
      "RMSE: 0.3791217922163448\n",
      "R2 Score: 0.33098666666666676\n",
      "------------------------------\n",
      "RMSE Cross-Validation: 0.39881875526507315\n"
     ]
    }
   ],
   "source": [
    "random_forest = RandomForestRegressor(n_estimators=100)\n",
    "random_forest.fit(X_train, y_train)\n",
    "predictions = random_forest.predict(X_test)\n",
    "\n",
    "mae, mse, rmse, r_squared = evaluation(y_test, predictions)\n",
    "print(\"MAE:\", mae)\n",
    "print(\"MSE:\", mse)\n",
    "print(\"RMSE:\", rmse)\n",
    "print(\"R2 Score:\", r_squared)\n",
    "print(\"-\"*30)\n",
    "rmse_cross_val = rmse_cv(random_forest)\n",
    "print(\"RMSE Cross-Validation:\", rmse_cross_val)\n",
    "\n",
    "new_row = {\"Model\": \"RandomForestRegressor\",\"MAE\": mae, \"MSE\": mse, \"RMSE\": rmse, \"R2 Score\": r_squared, \"RMSE (Cross-Validation)\": rmse_cross_val}\n",
    "models = models.append(new_row, ignore_index=True)"
   ]
  },
  {
   "cell_type": "markdown",
   "id": "ca67572a",
   "metadata": {},
   "source": [
    "7.8 MODEL COMPARISON"
   ]
  },
  {
   "cell_type": "code",
   "execution_count": 242,
   "id": "a34bc101",
   "metadata": {},
   "outputs": [
    {
     "data": {
      "text/html": [
       "<div>\n",
       "<style scoped>\n",
       "    .dataframe tbody tr th:only-of-type {\n",
       "        vertical-align: middle;\n",
       "    }\n",
       "\n",
       "    .dataframe tbody tr th {\n",
       "        vertical-align: top;\n",
       "    }\n",
       "\n",
       "    .dataframe thead th {\n",
       "        text-align: right;\n",
       "    }\n",
       "</style>\n",
       "<table border=\"1\" class=\"dataframe\">\n",
       "  <thead>\n",
       "    <tr style=\"text-align: right;\">\n",
       "      <th></th>\n",
       "      <th>Model</th>\n",
       "      <th>MAE</th>\n",
       "      <th>MSE</th>\n",
       "      <th>RMSE</th>\n",
       "      <th>R2 Score</th>\n",
       "      <th>RMSE (Cross-Validation)</th>\n",
       "    </tr>\n",
       "  </thead>\n",
       "  <tbody>\n",
       "    <tr>\n",
       "      <th>2</th>\n",
       "      <td>Ridge</td>\n",
       "      <td>0.27</td>\n",
       "      <td>0.14</td>\n",
       "      <td>0.38</td>\n",
       "      <td>3.27e-01</td>\n",
       "      <td>0.40</td>\n",
       "    </tr>\n",
       "    <tr>\n",
       "      <th>8</th>\n",
       "      <td>RandomForestRegressor</td>\n",
       "      <td>0.27</td>\n",
       "      <td>0.14</td>\n",
       "      <td>0.38</td>\n",
       "      <td>3.31e-01</td>\n",
       "      <td>0.40</td>\n",
       "    </tr>\n",
       "    <tr>\n",
       "      <th>1</th>\n",
       "      <td>LinearRegression</td>\n",
       "      <td>0.27</td>\n",
       "      <td>0.15</td>\n",
       "      <td>0.38</td>\n",
       "      <td>3.24e-01</td>\n",
       "      <td>0.40</td>\n",
       "    </tr>\n",
       "    <tr>\n",
       "      <th>4</th>\n",
       "      <td>Quadratic Polynomial Regression</td>\n",
       "      <td>0.62</td>\n",
       "      <td>0.77</td>\n",
       "      <td>0.88</td>\n",
       "      <td>-2.60e+00</td>\n",
       "      <td>0.40</td>\n",
       "    </tr>\n",
       "    <tr>\n",
       "      <th>9</th>\n",
       "      <td>Quadratic Polynomial Regression</td>\n",
       "      <td>0.62</td>\n",
       "      <td>0.77</td>\n",
       "      <td>0.88</td>\n",
       "      <td>-2.60e+00</td>\n",
       "      <td>0.40</td>\n",
       "    </tr>\n",
       "    <tr>\n",
       "      <th>6</th>\n",
       "      <td>RandomForestRegressor</td>\n",
       "      <td>0.26</td>\n",
       "      <td>0.14</td>\n",
       "      <td>0.37</td>\n",
       "      <td>3.50e-01</td>\n",
       "      <td>0.40</td>\n",
       "    </tr>\n",
       "    <tr>\n",
       "      <th>3</th>\n",
       "      <td>Lasso</td>\n",
       "      <td>0.42</td>\n",
       "      <td>0.21</td>\n",
       "      <td>0.46</td>\n",
       "      <td>1.98e-03</td>\n",
       "      <td>0.46</td>\n",
       "    </tr>\n",
       "    <tr>\n",
       "      <th>5</th>\n",
       "      <td>ElasticNet</td>\n",
       "      <td>0.42</td>\n",
       "      <td>0.21</td>\n",
       "      <td>0.46</td>\n",
       "      <td>2.87e-03</td>\n",
       "      <td>0.47</td>\n",
       "    </tr>\n",
       "    <tr>\n",
       "      <th>7</th>\n",
       "      <td>ElasticNet</td>\n",
       "      <td>0.42</td>\n",
       "      <td>0.21</td>\n",
       "      <td>0.46</td>\n",
       "      <td>2.87e-03</td>\n",
       "      <td>0.47</td>\n",
       "    </tr>\n",
       "    <tr>\n",
       "      <th>0</th>\n",
       "      <td>SVR</td>\n",
       "      <td>0.31</td>\n",
       "      <td>0.31</td>\n",
       "      <td>0.56</td>\n",
       "      <td>-4.55e-01</td>\n",
       "      <td>0.57</td>\n",
       "    </tr>\n",
       "  </tbody>\n",
       "</table>\n",
       "</div>"
      ],
      "text/plain": [
       "                             Model   MAE   MSE  RMSE  R2 Score  \\\n",
       "2                            Ridge  0.27  0.14  0.38  3.27e-01   \n",
       "8            RandomForestRegressor  0.27  0.14  0.38  3.31e-01   \n",
       "1                 LinearRegression  0.27  0.15  0.38  3.24e-01   \n",
       "4  Quadratic Polynomial Regression  0.62  0.77  0.88 -2.60e+00   \n",
       "9  Quadratic Polynomial Regression  0.62  0.77  0.88 -2.60e+00   \n",
       "6            RandomForestRegressor  0.26  0.14  0.37  3.50e-01   \n",
       "3                            Lasso  0.42  0.21  0.46  1.98e-03   \n",
       "5                       ElasticNet  0.42  0.21  0.46  2.87e-03   \n",
       "7                       ElasticNet  0.42  0.21  0.46  2.87e-03   \n",
       "0                              SVR  0.31  0.31  0.56 -4.55e-01   \n",
       "\n",
       "   RMSE (Cross-Validation)  \n",
       "2                     0.40  \n",
       "8                     0.40  \n",
       "1                     0.40  \n",
       "4                     0.40  \n",
       "9                     0.40  \n",
       "6                     0.40  \n",
       "3                     0.46  \n",
       "5                     0.47  \n",
       "7                     0.47  \n",
       "0                     0.57  "
      ]
     },
     "execution_count": 242,
     "metadata": {},
     "output_type": "execute_result"
    }
   ],
   "source": [
    "models.sort_values(by=\"RMSE (Cross-Validation)\")"
   ]
  },
  {
   "cell_type": "code",
   "execution_count": null,
   "id": "5e96a12f",
   "metadata": {},
   "outputs": [],
   "source": [
    "plt.figure(figsize=(12,8))\n",
    "sb.barplot(x=models[\"Model\"], y=models[\"RMSE (Cross-Validation)\"])\n",
    "plt.title(\"Models' RMSE Scores (Cross-Validated)\", size=15)\n",
    "plt.xticks(rotation=30, size=12)\n",
    "plt.show()"
   ]
  },
  {
   "cell_type": "markdown",
   "id": "7a0e20b9",
   "metadata": {},
   "source": [
    "CONCLUSION"
   ]
  },
  {
   "cell_type": "markdown",
   "id": "0c2d3d5c",
   "metadata": {},
   "source": [
    "The Support Vector Machine Model performs better than the other models"
   ]
  },
  {
   "cell_type": "markdown",
   "id": "343a8ccf",
   "metadata": {},
   "source": [
    "# 8. OTHER MACHINE LEARNING MODELS (Classification Models)"
   ]
  },
  {
   "cell_type": "markdown",
   "id": "d12f45bf",
   "metadata": {},
   "source": [
    "8.1 Logistic Regression"
   ]
  },
  {
   "cell_type": "code",
   "execution_count": 234,
   "id": "00142b4e",
   "metadata": {},
   "outputs": [
    {
     "name": "stdout",
     "output_type": "stream",
     "text": [
      "Training Accuracy    : 80.09 %\n",
      "Model Accuracy Score : 83.33 %\n",
      "\u001b[1m--------------------------------------------------------\u001b[0m\n"
     ]
    },
    {
     "data": {
      "image/png": "[encoded data removed]",
      "text/plain": [
       "<Figure size 432x288 with 2 Axes>"
      ]
     },
     "metadata": {
      "needs_background": "light"
     },
     "output_type": "display_data"
    }
   ],
   "source": [
    "from sklearn.metrics import accuracy_score,classification_report,confusion_matrix,plot_confusion_matrix\n",
    "\n",
    "# Logistic Regression\n",
    "from sklearn.linear_model import LogisticRegression\n",
    "logreg = LogisticRegression()  \n",
    "logreg.fit(X_train, y_train)\n",
    "y_pred_lr = logreg.predict(X_test)\n",
    "\n",
    "log_train = round(logreg.score(X_train, y_train) * 100, 2)\n",
    "log_accuracy = round(accuracy_score(y_pred_lr, y_test) * 100, 2)\n",
    "\n",
    "print(\"Training Accuracy    :\",log_train ,\"%\")\n",
    "print(\"Model Accuracy Score :\",log_accuracy ,\"%\")\n",
    "print(\"\\033[1m--------------------------------------------------------\\033[0m\")\n",
    "plot_confusion_matrix(logreg, X_test, y_test);\n",
    "plt.title('Confusion Matrix');"
   ]
  },
  {
   "cell_type": "markdown",
   "id": "1d4043a4",
   "metadata": {},
   "source": [
    "8.2 Decision Tree Classifier"
   ]
  },
  {
   "cell_type": "code",
   "execution_count": 230,
   "id": "b0f9739f",
   "metadata": {},
   "outputs": [
    {
     "name": "stdout",
     "output_type": "stream",
     "text": [
      "Training Accuracy    : 100.0 %\n",
      "Model Accuracy Score : 75.0 %\n",
      "\u001b[1m--------------------------------------------------------\u001b[0m\n",
      "[[ 6  9]\n",
      " [ 3 30]]\n"
     ]
    },
    {
     "data": {
      "image/png": "[encoded data removed]",
      "text/plain": [
       "<Figure size 432x288 with 2 Axes>"
      ]
     },
     "metadata": {
      "needs_background": "light"
     },
     "output_type": "display_data"
    }
   ],
   "source": [
    "# Decision Tree\n",
    "from sklearn.tree import DecisionTreeClassifier\n",
    "decision = DecisionTreeClassifier()\n",
    "decision.fit(X_train, y_train)\n",
    "y_pred_dec = decision.predict(X_test)\n",
    "\n",
    "decision_train = round(decision.score(X_train, y_train) * 100, 2)\n",
    "decision_accuracy = round(accuracy_score(y_pred_dec, y_test) * 100, 2)\n",
    "\n",
    "print(\"Training Accuracy    :\",decision_train ,\"%\")\n",
    "print(\"Model Accuracy Score :\",decision_accuracy ,\"%\")\n",
    "print(\"\\033[1m--------------------------------------------------------\\033[0m\")\n",
    "plot_confusion_matrix(decision, X_test, y_test);\n",
    "plt.title('Confusion Matrix');\n",
    "print(confusion_matrix(y_test,y_pred_dec))"
   ]
  },
  {
   "cell_type": "markdown",
   "id": "1efc8ad3",
   "metadata": {},
   "source": [
    "8.3 KNeighbors Classifier"
   ]
  },
  {
   "cell_type": "code",
   "execution_count": null,
   "id": "e2c203f2",
   "metadata": {},
   "outputs": [],
   "source": [
    "from sklearn.neighbors import KNeighborsClassifier\n",
    "knn = KNeighborsClassifier()\n",
    "knn.fit(X_train, y_train)\n",
    "y_pred_knn = knn.predict(X_test)\n",
    "\n",
    "knn_train = round(knn.score(X_train, y_train) * 100, 2)\n",
    "knn_accuracy = round(accuracy_score(y_pred_knn, y_test) * 100, 2)\n",
    "\n",
    "print(\"Training Accuracy    :\",knn_train ,\"%\")\n",
    "print(\"Model Accuracy Score :\",knn_accuracy ,\"%\")\n",
    "print(\"\\033[1m--------------------------------------------------------\\033[0m\")\n",
    "plot_confusion_matrix(knn, X_test, y_test);\n",
    "plt.title('Confusion Matrix');"
   ]
  },
  {
   "cell_type": "code",
   "execution_count": null,
   "id": "37e6553f",
   "metadata": {},
   "outputs": [],
   "source": [
    "from sklearn.ensemble import AdaBoostClassifier\n",
    "ada = AdaBoostClassifier()\n",
    "ada.fit(X_train,y_train)\n",
    "y_pred_ada = ada.predict(X_test)\n",
    "\n",
    "ada_train = round(ada.score(X_train, y_train) * 100, 2)\n",
    "ada_accuracy = round(accuracy_score(y_pred_ada, y_test) * 100, 2)\n",
    "\n",
    "print(\"Training Accuracy    :\",ada_train ,\"%\")\n",
    "print(\"Model Accuracy Score :\",ada_accuracy ,\"%\")\n",
    "print(\"\\033[1m--------------------------------------------------------\\033[0m\")\n",
    "plot_confusion_matrix(ada, X_test, y_test);\n",
    "plt.title('Confusion Matrix');"
   ]
  },
  {
   "cell_type": "code",
   "execution_count": null,
   "id": "fd58009d",
   "metadata": {},
   "outputs": [],
   "source": [
    "from sklearn.ensemble import GradientBoostingClassifier\n",
    "gbc = GradientBoostingClassifier()\n",
    "gbc.fit(X_train,y_train)\n",
    "y_pred_gbc = gbc.predict(X_test)\n",
    "\n",
    "\n",
    "gbc_train = round(gbc.score(X_train, y_train) * 100, 2)\n",
    "gbc_accuracy = round(accuracy_score(y_pred_gbc, y_test) * 100, 2)\n",
    "\n",
    "print(\"Training Accuracy    :\",gbc_train ,\"%\")\n",
    "print(\"Model Accuracy Score :\",gbc_accuracy ,\"%\")\n",
    "print(\"\\033[1m--------------------------------------------------------\\033[0m\")\n",
    "plot_confusion_matrix(gbc, X_test, y_test);\n",
    "plt.title('Confusion Matrix');"
   ]
  },
  {
   "cell_type": "markdown",
   "id": "65ccedf9",
   "metadata": {},
   "source": [
    "8.6 Bagging Classifier"
   ]
  },
  {
   "cell_type": "code",
   "execution_count": 227,
   "id": "4f443b3f",
   "metadata": {},
   "outputs": [
    {
     "name": "stdout",
     "output_type": "stream",
     "text": [
      "Training Accuracy    : 98.61 %\n",
      "Model Accuracy Score : 81.25 %\n",
      "\u001b[1m--------------------------------------------------------\u001b[0m\n"
     ]
    },
    {
     "data": {
      "image/png": "[encoded data removed]",
      "text/plain": [
       "<Figure size 432x288 with 2 Axes>"
      ]
     },
     "metadata": {
      "needs_background": "light"
     },
     "output_type": "display_data"
    }
   ],
   "source": [
    "from sklearn.ensemble import BaggingClassifier\n",
    "Bag = BaggingClassifier()\n",
    "Bag.fit(X_train,y_train)\n",
    "y_pred_Bag = Bag.predict(X_test)\n",
    "\n",
    "\n",
    "Bag_train = round(Bag.score(X_train, y_train) * 100, 2)\n",
    "Bag_accuracy = round(accuracy_score(y_pred_Bag, y_test) * 100, 2)\n",
    "\n",
    "print(\"Training Accuracy    :\",Bag_train ,\"%\")\n",
    "print(\"Model Accuracy Score :\",Bag_accuracy ,\"%\")\n",
    "print(\"\\033[1m--------------------------------------------------------\\033[0m\")\n",
    "plot_confusion_matrix(Bag, X_test, y_test);\n",
    "plt.title('Confusion Matrix');"
   ]
  },
  {
   "cell_type": "code",
   "execution_count": 228,
   "id": "9147274d",
   "metadata": {},
   "outputs": [],
   "source": [
    "Models = pd.DataFrame({\n",
    "    'Model': [\n",
    "        'Logistic Regression','Decision Tree','KNN', 'AdaBoostClassifier', 'GradientBoostingClassifier',\n",
    "        'BaggingClassifier'\n",
    "        \n",
    "    ],\n",
    "    \n",
    "    'Model Accuracy Score': [\n",
    "        log_accuracy, decision_accuracy, knn_accuracy,ada_accuracy,gbc_accuracy, \n",
    "       Bag_accuracy\n",
    "    ]\n",
    "})\n"
   ]
  },
  {
   "cell_type": "code",
   "execution_count": 229,
   "id": "5031fc1f",
   "metadata": {},
   "outputs": [
    {
     "data": {
      "text/html": [
       "<style  type=\"text/css\" >\n",
       "#T_62153_row0_col0,#T_62153_row1_col0,#T_62153_row2_col0,#T_62153_row3_col0,#T_62153_row4_col0,#T_62153_row5_col0{\n",
       "            font-family:  Lucida Calligraphy;\n",
       "            color:  LigntGreen;\n",
       "            font-size:  15px;\n",
       "        }#T_62153_row0_col1,#T_62153_row1_col1{\n",
       "            background-color:  #b40426;\n",
       "            color:  #f1f1f1;\n",
       "            font-family:  Lucida Calligraphy;\n",
       "            color:  LigntGreen;\n",
       "            font-size:  15px;\n",
       "        }#T_62153_row2_col1,#T_62153_row3_col1{\n",
       "            background-color:  #dd5f4b;\n",
       "            color:  #000000;\n",
       "            font-family:  Lucida Calligraphy;\n",
       "            color:  LigntGreen;\n",
       "            font-size:  15px;\n",
       "        }#T_62153_row4_col1{\n",
       "            background-color:  #dddcdc;\n",
       "            color:  #000000;\n",
       "            font-family:  Lucida Calligraphy;\n",
       "            color:  LigntGreen;\n",
       "            font-size:  15px;\n",
       "        }#T_62153_row5_col1{\n",
       "            background-color:  #3b4cc0;\n",
       "            color:  #f1f1f1;\n",
       "            font-family:  Lucida Calligraphy;\n",
       "            color:  LigntGreen;\n",
       "            font-size:  15px;\n",
       "        }</style><table id=\"T_62153_\" ><thead>    <tr>        <th class=\"col_heading level0 col0\" >Model</th>        <th class=\"col_heading level0 col1\" >Model Accuracy Score</th>    </tr></thead><tbody>\n",
       "                <tr>\n",
       "                                <td id=\"T_62153_row0_col0\" class=\"data row0 col0\" >Logistic Regression</td>\n",
       "                        <td id=\"T_62153_row0_col1\" class=\"data row0 col1\" >83.33</td>\n",
       "            </tr>\n",
       "            <tr>\n",
       "                                <td id=\"T_62153_row1_col0\" class=\"data row1 col0\" >AdaBoostClassifier</td>\n",
       "                        <td id=\"T_62153_row1_col1\" class=\"data row1 col1\" >83.33</td>\n",
       "            </tr>\n",
       "            <tr>\n",
       "                                <td id=\"T_62153_row2_col0\" class=\"data row2 col0\" >GradientBoostingClassifier</td>\n",
       "                        <td id=\"T_62153_row2_col1\" class=\"data row2 col1\" >81.25</td>\n",
       "            </tr>\n",
       "            <tr>\n",
       "                                <td id=\"T_62153_row3_col0\" class=\"data row3 col0\" >BaggingClassifier</td>\n",
       "                        <td id=\"T_62153_row3_col1\" class=\"data row3 col1\" >81.25</td>\n",
       "            </tr>\n",
       "            <tr>\n",
       "                                <td id=\"T_62153_row4_col0\" class=\"data row4 col0\" >Decision Tree</td>\n",
       "                        <td id=\"T_62153_row4_col1\" class=\"data row4 col1\" >75.00</td>\n",
       "            </tr>\n",
       "            <tr>\n",
       "                                <td id=\"T_62153_row5_col0\" class=\"data row5 col0\" >KNN</td>\n",
       "                        <td id=\"T_62153_row5_col1\" class=\"data row5 col1\" >66.67</td>\n",
       "            </tr>\n",
       "    </tbody></table>"
      ],
      "text/plain": [
       "<pandas.io.formats.style.Styler at 0x7fe94b42aa30>"
      ]
     },
     "execution_count": 229,
     "metadata": {},
     "output_type": "execute_result"
    }
   ],
   "source": [
    "pd.set_option('precision',2)\n",
    "\n",
    "Models.sort_values(by='Model Accuracy Score', ascending=False).style.background_gradient(\n",
    "        cmap='coolwarm').hide_index().set_properties(**{\n",
    "            'font-family': 'Lucida Calligraphy',\n",
    "            'color': 'LigntGreen',\n",
    "            'font-size': '15px'\n",
    "        })"
   ]
  },
  {
   "cell_type": "code",
   "execution_count": null,
   "id": "f0403051",
   "metadata": {},
   "outputs": [],
   "source": []
  }
 ],
 "metadata": {
  "kernelspec": {
   "display_name": "Python 3",
   "language": "python",
   "name": "python3"
  },
  "language_info": {
   "codemirror_mode": {
    "name": "ipython",
    "version": 3
   },
   "file_extension": ".py",
   "mimetype": "text/x-python",
   "name": "python",
   "nbconvert_exporter": "python",
   "pygments_lexer": "ipython3",
   "version": "3.8.8"
  }
 },
 "nbformat": 4,
 "nbformat_minor": 5
}
